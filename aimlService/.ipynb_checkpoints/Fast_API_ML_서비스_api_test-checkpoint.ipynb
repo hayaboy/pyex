{
 "cells": [
  {
   "cell_type": "markdown",
   "metadata": {},
   "source": [
    "## Read Root"
   ]
  },
  {
   "cell_type": "code",
   "execution_count": 1,
   "metadata": {},
   "outputs": [
    {
     "name": "stdout",
     "output_type": "stream",
     "text": [
      "{'item_id': {'0': 1, '1': 2, '2': 2, '3': 3, '4': 3, '5': 3},\n",
      " 'name': {'0': 'apple',\n",
      "          '1': 'tangerine',\n",
      "          '2': 'melon',\n",
      "          '3': 'mango',\n",
      "          '4': 'orange',\n",
      "          '5': 'plum'},\n",
      " 'price': {'0': 100, '1': 200, '2': 300, '3': 400, '4': 500, '5': 600}}\n"
     ]
    }
   ],
   "source": [
    "import requests\n",
    "import pprint\n",
    "\n",
    "url = 'http://localhost:8000/'\n",
    "res = requests.get(url)\n",
    "pprint.pprint(res.json())"
   ]
  },
  {
   "cell_type": "markdown",
   "metadata": {},
   "source": [
    "## Read Item"
   ]
  },
  {
   "cell_type": "code",
   "execution_count": 2,
   "metadata": {},
   "outputs": [
    {
     "name": "stdout",
     "output_type": "stream",
     "text": [
      "{'result': ['mango', 'orange']}\n"
     ]
    }
   ],
   "source": [
    "import requests\n",
    "import pprint\n",
    "\n",
    "item_id=3\n",
    "url = f'http://localhost:8000/items/{item_id}?'\n",
    "params={\n",
    "    'q' : 'name',\n",
    "    'limit' : 2\n",
    "}\n",
    "res = requests.get(url, params=params)\n",
    "pprint.pprint(res.json())"
   ]
  },
  {
   "cell_type": "code",
   "execution_count": 3,
   "metadata": {},
   "outputs": [
    {
     "name": "stdout",
     "output_type": "stream",
     "text": [
      "{'result': ['mango', 'orange']}\n"
     ]
    }
   ],
   "source": [
    "import requests\n",
    "import pprint\n",
    "\n",
    "url = 'http://localhost:8000/items/3?q=name&limit=2'\n",
    "res = requests.get(url)\n",
    "pprint.pprint(res.json())"
   ]
  },
  {
   "cell_type": "markdown",
   "metadata": {},
   "source": [
    "## Save Item"
   ]
  },
  {
   "cell_type": "code",
   "execution_count": 4,
   "metadata": {},
   "outputs": [
    {
     "name": "stdout",
     "output_type": "stream",
     "text": [
      "{'result': 'item_id 3 is saved!'}\n"
     ]
    }
   ],
   "source": [
    "import requests\n",
    "import pprint\n",
    "\n",
    "item_id=3\n",
    "url = f'http://localhost:8000/items/{item_id}?'\n",
    "body={\n",
    "    'name' : 'peach',\n",
    "    'price' : 1000\n",
    "}\n",
    "res = requests.post(url, json=body)\n",
    "pprint.pprint(res.json())"
   ]
  },
  {
   "cell_type": "code",
   "execution_count": null,
   "metadata": {},
   "outputs": [],
   "source": []
  }
 ],
 "metadata": {
  "kernelspec": {
   "display_name": "dl-service",
   "language": "python",
   "name": "python3"
  },
  "language_info": {
   "codemirror_mode": {
    "name": "ipython",
    "version": 3
   },
   "file_extension": ".py",
   "mimetype": "text/x-python",
   "name": "python",
   "nbconvert_exporter": "python",
   "pygments_lexer": "ipython3",
   "version": "3.7.11"
  },
  "vscode": {
   "interpreter": {
    "hash": "38363ebdada769ba66ab9b9fee653358c3d5a0646cc6d1346148f1d64fbf9db6"
   }
  }
 },
 "nbformat": 4,
 "nbformat_minor": 4
}
